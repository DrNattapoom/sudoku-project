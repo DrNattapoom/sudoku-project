{
    "cells": [
        {
            "cell_type": "markdown",
            "metadata": {},
            "source": [
                "# Sudoku\n",
                "\n",
                "A popular number game/puzzle whose objective is to fill each of the empty cells in a grid with the correct number using the given initial clues. The classic sudoku game involves a $9$ x $9$ grid in which the grid is divided into $9$ blocks, and each block contains $9$ cells. \n",
                "\n",
                "Note that I will generalize this to be in a form of $n$ x $n$ grid where $n$ is a perfect square (e.g., 4, 9, and 16).\n",
                "\n",
                "## Solving Sudoku Puzzle\n",
                "\n",
                "Every empty cell must be filled without violating the following rules.\n",
                "1. Each row must contain the numbers without repetitions\n",
                "2. Each column must contain the numbers without repetitions\n",
                "3. Each block must contain the numbers without repetitiions\n",
                "\n",
                "where in this case the numbers go from $1$ to $n$.\n",
                "\n",
                "One of the common ways to solve sudoku is to use a backtracking algorithm which tries all the possible combination of the board. This, howevers, can be inefficient. \n",
                "\n",
                "Therefore, in this project, I will be using Linear Optimization algorithm to solve sudoku puzzles."
            ]
        },
        {
            "cell_type": "code",
            "execution_count": 1,
            "metadata": {},
            "outputs": [],
            "source": [
                "import numpy as np"
            ]
        },
        {
            "cell_type": "code",
            "execution_count": 2,
            "metadata": {},
            "outputs": [],
            "source": [
                "# nxn sudoku class\n",
                "class Sudoku:\n",
                "\n",
                "    def __init__(self, n = 9):\n",
                "        # initialize\n",
                "        self.n = n\n",
                "        self.sqrt_n = (int) (np.sqrt(n))\n",
                "        self.puzzle = self.get_new_puzzle()\n",
                "\n",
                "    def get_new_puzzle(self):\n",
                "        def get_completed_board():\n",
                "            def get_non_repeat_index(row, col):\n",
                "                # return the index i of a 1d choice array so that the number at i \n",
                "                # does not violate the sudoku board rules when placed at row, col\n",
                "                return (self.sqrt_n*row + (row // self.sqrt_n) + col) % self.n\n",
                "            # get a choices (i.e., 1, 2, ..., n) to be used in a random order\n",
                "            choices = np.random.choice(range(1, self.n + 1), self.n, replace = False)\n",
                "            # create and return the board\n",
                "            return np.array([ \n",
                "                [ choices[get_non_repeat_index(row, col)] for col in range(self.n) ] \n",
                "                for row in range(self.n) \n",
                "            ])\n",
                "        # get the completed board\n",
                "        completed_board = get_completed_board()\n",
                "        # use the completed board to generate a puzzle \n",
                "        # this guarantees at least one solution\n",
                "        puzzle = np.copy(completed_board)\n",
                "        # randomly remove cells until no more cells can be removed\n",
                "        # without losing the uniqueness of the solution\n",
                "        has_unique_solution = False\n",
                "        while (not has_unique_solution):\n",
                "            row = np.random.randint(self.n)\n",
                "            col = np.random.randint(self.n)\n",
                "            if (puzzle[row, col] != 0):\n",
                "                # back up and remove the number from the cell\n",
                "                number = puzzle[row, col]\n",
                "                puzzle[row, col] = 0\n",
                "                solutions = []\n",
                "                # try to solve the board using backtracking algorithm\n",
                "                self.solve_backtracking(puzzle, solutions, max_number_of_needed_solutions = 2)\n",
                "                # stop if the solution is no longer unique\n",
                "                if (len(solutions) > 1):\n",
                "                    # put the number back so that the solution is unique\n",
                "                    puzzle[row, col] = number\n",
                "                    break\n",
                "        return puzzle\n",
                "\n",
                "    def solve_linear_optimization(self):\n",
                "        # to be implemented\n",
                "        pass\n",
                "\n",
                "    def solve_backtracking(self, board, solutions, max_number_of_needed_solutions = -1):\n",
                "        # stop in case the max number of needed solutions is satisfied\n",
                "        if (len(solutions) == max_number_of_needed_solutions): return\n",
                "        # traverse the board\n",
                "        for row in range(self.n):\n",
                "            for col in range(self.n):\n",
                "                if (board[row, col] == 0):\n",
                "                    # try to find the number to fill\n",
                "                    for number in range(1, self.n + 1):\n",
                "                        if (self.valid_cell(row, col, number, board)):\n",
                "                            board[row, col] = number\n",
                "                            self.solve_backtracking(board, solutions, max_number_of_needed_solutions)\n",
                "                            board[row, col] = 0\n",
                "                    return\n",
                "        # collect the solutions\n",
                "        solutions.append(np.copy(board).astype(int))\n",
                "\n",
                "    def valid_cell(self, row, col, number, board):\n",
                "        # check if number is in the given row\n",
                "        in_row = number in board[row, :]\n",
                "        # check if number is in the given col\n",
                "        in_col = number in board[:, col]\n",
                "        # get starting points of the block where the given row and col are in\n",
                "        i = row - (row % self.sqrt_n)\n",
                "        j = col - (col % self.sqrt_n)\n",
                "        # check if number is in the given block\n",
                "        in_block = number in board[i:(i + self.sqrt_n), j:(j + self.sqrt_n)]\n",
                "        # valid if number is neither in row, col, nor block\n",
                "        return not (in_row or in_col or in_block)\n",
                "\n",
                "    def valid_board(self, board):\n",
                "        # traverse the board\n",
                "        for row in range(self.n):\n",
                "            for col in range(self.n):\n",
                "                if (board[row, col] != 0):\n",
                "                    # back up and remove the number from the cell\n",
                "                    number = board[row, col]\n",
                "                    board[row, col] = 0\n",
                "                    # check if the board is valid if the number is placed back to the cell\n",
                "                    if (self.valid_cell(row, col, number, board)):\n",
                "                        board[row, col] = number\n",
                "                    else:\n",
                "                        return False\n",
                "        # board is valid if all cells are valid\n",
                "        return True\n",
                "    \n",
                "    def accepted(self, solution):\n",
                "        # solution is accepted if the solution is valid and contains no empty cells\n",
                "        return self.valid_board(solution) and 0 not in solution"
            ]
        },
        {
            "cell_type": "markdown",
            "metadata": {},
            "source": [
                "## Solving Sudoku Puzzle using Linear Optimization\n",
                "\n",
                "Note that because sudoku only allows integer to be put into cells, a sudoku puzzle is therefore a mixed integer optimization problem.\n",
                "\n",
                "However, unlike a normal linear optimization problem, the problem of sudoku puzzle does not have an objective function to be optimized. This is because as long as all the constraints are satisfied, a solution is considered to be valid. In other words, the objective function can be any arbitrary function which, in this case, I will be using zero as the objective function for simplicity. \n",
                "\n",
                "Now, let consider the decision variables.\n",
                "\n",
                "Since a number must be unique in a row, a column, and a block, the decision variables cannot simply be each of the cells in the $n$ x $n$ board. \n",
                "\n",
                "Instead, let utilize the structure of $n$ x $n$ x $n$ grid where each of the cells is either $0$ or $1$ representing the existence of the corresponding value at the corresponding cell in the $n$ x $n$ sudoku board. This ways we can represent all the combination of the value, row, and column.\n",
                "\n",
                "So, we have \n",
                "\n",
                "$$\n",
                "x_{k, i, j} = \n",
                "\\begin{cases}\n",
                "    1 & \\quad \\text{if number $k$ is in row $i$, column $j$}, \\\\\n",
                "    0 & \\quad \\text{otherwise}\n",
                "\\end{cases}\n",
                "$$\n",
                "\n",
                "Next, let define all the constraints.\n",
                "\n",
                "1. Each row must contain the numbers without repetitions\n",
                "\n",
                "$$\n",
                "\\sum_{j = 1}^{n} x_{k, i, j} = 1, \\quad \\quad \\forall i, k \\in [1, n]\n",
                "$$\n",
                "\n",
                "2. Each column must contain the numbers without repetitions\n",
                "\n",
                "$$\n",
                "\\sum_{i = 1}^{n} x_{k, i, j} = 1, \\quad \\quad \\forall j, k \\in [1, n]\n",
                "$$\n",
                "\n",
                "3. Each block must contain the numbers without repetitiions\n",
                "\n",
                "$$\n",
                "\\sum_{i = 1}^{n}\\sum_{j = 1}^{n} x_{k, i + u, j + v} = 1, \\quad \\quad \\forall k \\in [1, n] \\text{ and } u, v \\in \\{0, \\sqrt{n}, 2\\sqrt{n}, ..., n - \\sqrt{n} \\}\n",
                "$$\n",
                "\n",
                "This is, however, still not enough because we also want to ensure that only one number can be in a cell and each of the cells in our $n$ x $n$ x $n$ grid must be either 0 or 1. So, we have \n",
                "\n",
                "4. Each cell must contain only one number\n",
                "\n",
                "$$\n",
                "\\sum_{k = 1}^{n} x_{k, i, j} = 1, \\quad \\quad \\forall i, j \\in [1, n]\n",
                "$$\n",
                "\n",
                "5. Each cell in the $n$ x $n$ x $n$ grid must be either 0 or 1\n",
                "\n",
                "$$\n",
                "0 \\leqslant x_{k, i, j} \\leqslant 1, \\quad \\quad \\forall i, j, k \\in [1, n]\n",
                "$$ \n",
                "\n",
                "Finally, since we will use this to solve sudoku puzzles, we also need to ensure that the position of the initial clues (i.e., the known cells or the starting numbers that are given) are fixed. So, we have \n",
                "\n",
                "6. Each initial clue must be fixed\n",
                "\n",
                "$$\n",
                "x_{C_{i, j}, i, j} = 1, \\quad \\quad \\forall C_{i, j}\n",
                "$$\n",
                "\n",
                "where $C_{i, j}$ is an initial clue that is not $0$ at row $i$ and column $j$\n",
                "\n",
                "Now, let implement this using Python cvxpy"
            ]
        },
        {
            "cell_type": "code",
            "execution_count": 3,
            "metadata": {},
            "outputs": [],
            "source": [
                "import cvxpy as cp"
            ]
        },
        {
            "cell_type": "code",
            "execution_count": 4,
            "metadata": {},
            "outputs": [],
            "source": [
                "def solve_linear_optimization(self):\n",
                "    x = { i : cp.Variable(shape = (self.n, self.n), integer = True) for i in range(self.n) }\n",
                "    def get_constraints():\n",
                "        # ensure a number can appear only once in a row/column\n",
                "        row_constraints, col_constraints = map(list, zip(*[\n",
                "            (cp.sum(x[k], axis = 1) == 1, cp.sum(x[k], axis = 0) == 1) \n",
                "            for k in range(self.n)\n",
                "        ]))\n",
                "        # ensure a number can appear only once in a sqrt(n) x sqrt(n) block\n",
                "        block_constraints = []\n",
                "        for k in range(self.n):\n",
                "            for u in range(0, self.n - self.sqrt_n + 1, self.sqrt_n):\n",
                "                for v in range(0, self.n - self.sqrt_n + 1, self.sqrt_n):\n",
                "                    block_constraints.append(sum([\n",
                "                        x[k][i + u, j + v] \n",
                "                        for i in range(self.sqrt_n) for j in range(self.sqrt_n)\n",
                "                    ]) == 1)\n",
                "        # ensure a number in the range and that every cell contains only one number\n",
                "        cell_constraints = list(sum([\n",
                "            (0 <= x[k], x[k] <= 1) \n",
                "            for k in range(self.n)\n",
                "        ], ())) + [\n",
                "            sum([x[k][i, j] for k in range(self.n)]) == 1 \n",
                "            for i in range(self.n) for j in range(self.n)\n",
                "        ]\n",
                "        # ensure the positions of known cells (initial clues) from the puzzle are fixed\n",
                "        known_cell_constraints = [\n",
                "            x[self.puzzle[i, j] - 1][i, j] == 1 \n",
                "            for i in range(self.n) for j in range(self.n) \n",
                "            if (self.puzzle[i,j] != 0)\n",
                "        ]\n",
                "        return row_constraints + col_constraints + block_constraints + known_cell_constraints + cell_constraints\n",
                "    def get_answer(variables):\n",
                "        answer = np.copy(self.puzzle)\n",
                "        for k, variable in enumerate(variables, start = 1):\n",
                "            # find indexes where the cells are 1\n",
                "            indexes = np.array(np.where(variable.value == 1))\n",
                "            # for each 1, fill the corresponding cell in the answer with k\n",
                "            for idx in range(len(indexes[0])):\n",
                "                row, col = indexes[:, idx]\n",
                "                if (answer[row, col] == 0):\n",
                "                    answer[row, col] = k\n",
                "        return answer\n",
                "    # define problem\n",
                "    prob = cp.Problem(\n",
                "        # use zero as the objective function\n",
                "        objective = cp.Minimize(0),\n",
                "        # get and set all the constraints\n",
                "        constraints = get_constraints()\n",
                "    )\n",
                "    # solve\n",
                "    prob.solve(solver = cp.GLPK_MI)\n",
                "    # return the answer\n",
                "    return get_answer(prob.variables())\n",
                "\n",
                "Sudoku.solve_linear_optimization = solve_linear_optimization"
            ]
        },
        {
            "cell_type": "code",
            "execution_count": 5,
            "metadata": {},
            "outputs": [
                {
                    "data": {
                        "text/plain": [
                            "array([[0, 0, 0, 0, 0, 0, 4, 1, 0],\n",
                            "       [0, 0, 0, 4, 1, 9, 0, 3, 0],\n",
                            "       [0, 0, 9, 2, 0, 6, 7, 8, 0],\n",
                            "       [3, 0, 7, 8, 5, 0, 0, 9, 0],\n",
                            "       [0, 5, 0, 0, 9, 2, 3, 6, 0],\n",
                            "       [1, 9, 0, 0, 6, 0, 0, 0, 4],\n",
                            "       [0, 0, 8, 5, 4, 1, 0, 0, 3],\n",
                            "       [5, 0, 1, 0, 0, 0, 6, 7, 8],\n",
                            "       [0, 0, 3, 6, 7, 8, 0, 0, 0]])"
                        ]
                    },
                    "execution_count": 5,
                    "metadata": {},
                    "output_type": "execute_result"
                }
            ],
            "source": [
                "# create sudoku puzzle\n",
                "sudoku = Sudoku()\n",
                "sudoku.puzzle"
            ]
        },
        {
            "cell_type": "code",
            "execution_count": 6,
            "metadata": {},
            "outputs": [
                {
                    "data": {
                        "text/plain": [
                            "array([[2, 3, 6, 7, 8, 5, 4, 1, 9],\n",
                            "       [7, 8, 5, 4, 1, 9, 2, 3, 6],\n",
                            "       [4, 1, 9, 2, 3, 6, 7, 8, 5],\n",
                            "       [3, 6, 7, 8, 5, 4, 1, 9, 2],\n",
                            "       [8, 5, 4, 1, 9, 2, 3, 6, 7],\n",
                            "       [1, 9, 2, 3, 6, 7, 8, 5, 4],\n",
                            "       [6, 7, 8, 5, 4, 1, 9, 2, 3],\n",
                            "       [5, 4, 1, 9, 2, 3, 6, 7, 8],\n",
                            "       [9, 2, 3, 6, 7, 8, 5, 4, 1]])"
                        ]
                    },
                    "execution_count": 6,
                    "metadata": {},
                    "output_type": "execute_result"
                }
            ],
            "source": [
                "# solve using linear optimization\n",
                "solution = sudoku.solve_linear_optimization()\n",
                "solution"
            ]
        },
        {
            "cell_type": "code",
            "execution_count": 7,
            "metadata": {},
            "outputs": [
                {
                    "data": {
                        "text/plain": [
                            "[array([[2, 3, 6, 7, 8, 5, 4, 1, 9],\n",
                            "        [7, 8, 5, 4, 1, 9, 2, 3, 6],\n",
                            "        [4, 1, 9, 2, 3, 6, 7, 8, 5],\n",
                            "        [3, 6, 7, 8, 5, 4, 1, 9, 2],\n",
                            "        [8, 5, 4, 1, 9, 2, 3, 6, 7],\n",
                            "        [1, 9, 2, 3, 6, 7, 8, 5, 4],\n",
                            "        [6, 7, 8, 5, 4, 1, 9, 2, 3],\n",
                            "        [5, 4, 1, 9, 2, 3, 6, 7, 8],\n",
                            "        [9, 2, 3, 6, 7, 8, 5, 4, 1]])]"
                        ]
                    },
                    "execution_count": 7,
                    "metadata": {},
                    "output_type": "execute_result"
                }
            ],
            "source": [
                "# solve using backtracking\n",
                "solutions = []\n",
                "sudoku.solve_backtracking(sudoku.puzzle, solutions)\n",
                "solutions"
            ]
        },
        {
            "cell_type": "code",
            "execution_count": 8,
            "metadata": {},
            "outputs": [
                {
                    "data": {
                        "text/plain": [
                            "True"
                        ]
                    },
                    "execution_count": 8,
                    "metadata": {},
                    "output_type": "execute_result"
                }
            ],
            "source": [
                "# since the solution is unique, this should return True\n",
                "(solution == solutions[0]).all()"
            ]
        },
        {
            "cell_type": "code",
            "execution_count": 9,
            "metadata": {},
            "outputs": [
                {
                    "data": {
                        "text/plain": [
                            "True"
                        ]
                    },
                    "execution_count": 9,
                    "metadata": {},
                    "output_type": "execute_result"
                }
            ],
            "source": [
                "# check whether the solution is correct and should be accepted or not\n",
                "sudoku.accepted(solution)"
            ]
        }
    ],
    "metadata": {
        "interpreter": {
            "hash": "acaf37c1c5c5de31f14233426a27fcbf081f2bbf521b499635136e441b7a16cb"
        },
        "kernelspec": {
            "display_name": "Python 3.9.12 64-bit",
            "name": "python3"
        },
        "language_info": {
            "codemirror_mode": {
                "name": "ipython",
                "version": 3
            },
            "file_extension": ".py",
            "mimetype": "text/x-python",
            "name": "python",
            "nbconvert_exporter": "python",
            "pygments_lexer": "ipython3",
            "version": "3.9.12"
        },
        "orig_nbformat": 4
    },
    "nbformat": 4,
    "nbformat_minor": 2
}
