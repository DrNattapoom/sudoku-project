{
    "cells": [
        {
            "cell_type": "markdown",
            "metadata": {},
            "source": [
                "# Sudoku\n",
                "\n",
                "A popular number game/puzzle whose objective is to fill each of the empty cells in a grid with the correct number using the given initial clues. The classic sudoku game involves a 9x9 grid in which the grid is divided into 9 blocks, and each block contains 9 cells. \n",
                "\n",
                "## Solving Sudoku Puzzle\n",
                "\n",
                "In order to solve a sudoku puzzle, every empty cell must be filled without violating the following constraints.\n",
                "1. Each row must contain the numbers without repetitions\n",
                "2. Each column must contain the numbers without repetitions\n",
                "3. Each block must contain the numbers without repetitiions\n",
                "\n",
                "One of the obvious ways to solve sudoku is to use a backtracking algorithm which tries all the possible combination of the board. This, howevers, can be inefficient. \n",
                "\n",
                "Therefore, in this project, I will be using Linear Optimization algorithm to solve sudoku puzzles."
            ]
        },
        {
            "cell_type": "code",
            "execution_count": 1,
            "metadata": {},
            "outputs": [],
            "source": [
                "import numpy as np"
            ]
        },
        {
            "cell_type": "code",
            "execution_count": 2,
            "metadata": {},
            "outputs": [],
            "source": [
                "class Sudoku:\n",
                "\n",
                "    def __init__(self, n = 9, k = 45):\n",
                "        # initialize\n",
                "        self.n = n\n",
                "        self.k = k\n",
                "        self.puzzle = self.get_puzzle()\n",
                "\n",
                "    def get_puzzle(self):\n",
                "        completed_boards = []\n",
                "        board = np.zeros((self.n, self.n))\n",
                "        # randomly fill only top-left block of the board to avoid the same board every time \n",
                "        numbers = np.arange(1, self.n + 1)\n",
                "        np.random.shuffle(numbers)\n",
                "        sqrt_n = (int) (np.sqrt(self.n))\n",
                "        # simply go over the block and place the numbers since there is no constraint yet\n",
                "        for i in range(sqrt_n):\n",
                "            for j in range(sqrt_n):\n",
                "                board[i, j] = numbers[sqrt_n*i + j]\n",
                "        # solve the partially filled board for a complete board\n",
                "        self.solve_backtracking(board, completed_boards, need_one_solution = True)\n",
                "        # get the completed board\n",
                "        completed_board = completed_boards[0]\n",
                "        # use the completed board to generate a puzzle \n",
                "        # this guarantees at least one solution\n",
                "        puzzle = np.copy(completed_board)\n",
                "        # remove k random cells from the completed board to generate puzzle\n",
                "        count = 0\n",
                "        while (count < self.k):\n",
                "            row = np.random.randint(self.n)\n",
                "            col = np.random.randint(self.n)\n",
                "            if (puzzle[row, col] != 0):\n",
                "                puzzle[row, col] = 0\n",
                "                count += 1\n",
                "        return puzzle\n",
                "\n",
                "    def solve_backtracking(self, board, solutions, need_one_solution = False):\n",
                "        # stop in case only one solution is needed\n",
                "        if (need_one_solution and len(solutions) == 1): return\n",
                "        # traverse the board\n",
                "        for row in range(self.n):\n",
                "            for col in range(self.n):\n",
                "                if (board[row, col] == 0):\n",
                "                    # try to find the number to fill\n",
                "                    for number in range(1, self.n + 1):\n",
                "                        if (self.valid(row, col, number, board)):\n",
                "                            board[row, col] = number\n",
                "                            self.solve_backtracking(board, solutions, need_one_solution)\n",
                "                            board[row, col] = 0\n",
                "                    return\n",
                "        # collect the solutions\n",
                "        solutions.append(np.copy(board).astype(int))\n",
                "\n",
                "    def solve_linear_optimization(self):\n",
                "        # to be implemented\n",
                "        pass    \n",
                "\n",
                "    def valid(self, row, col, number, board):\n",
                "        # generalize problem to work with nxn\n",
                "        sqrt_n = (int) (np.sqrt(self.n))\n",
                "        # check if number is in the given row\n",
                "        in_row = number in board[row, :]\n",
                "        # check if number is in the given col\n",
                "        in_col = number in board[:, col]\n",
                "        # get starting points of the block where the given row and col are in\n",
                "        i = row - (row % sqrt_n)\n",
                "        j = col - (col % sqrt_n)\n",
                "        # check if number is in the given block\n",
                "        in_block = number in board[i:(i + sqrt_n), j:(j + sqrt_n)]\n",
                "        # valid if number is neither in row, col, nor block\n",
                "        return not (in_row or in_col or in_block)\n",
                "\n",
                "    def check(self, board):\n",
                "        # traverse the board\n",
                "        for row in range(self.n):\n",
                "            for col in range(self.n):\n",
                "                # save and remove the number from the cell\n",
                "                number = board[row, col]\n",
                "                board[row, col] = 0\n",
                "                # check if the board is still valid if the number is placed back to the cell\n",
                "                if (self.valid(row, col, number, board)):\n",
                "                    board[row, col] = number\n",
                "                else:\n",
                "                    return False\n",
                "        # solution is valid if all cells are valid\n",
                "        return True"
            ]
        },
        {
            "cell_type": "markdown",
            "metadata": {},
            "source": [
                "# Solving Sudoku Puzzle using Linear Optimization\n",
                "\n",
                "Since sudoku only allows integer to be put into cells, a sudoku puzzle is therefore a mixed integer optimization problem.\n",
                "\n",
                "However, unlike a normal linear optimization problem, the problem of sudoku puzzle does not have an objective function to be optimized. This is because as long as all the constraints are satisfied, a solution is considered valid. In other words, the objective function can be any arbitrary function which I will be using zero for simplicity. \n",
                "\n",
                "Now, let consider the decision variables.\n",
                "\n",
                "Since a number must be unique in a row, a column, and a block, the decision variables cannot simply be each of the cells in the board. \n",
                "\n",
                "Instead, let utilize the structure of 9x9x9 grid where each cell is either 0 or 1 representing the existence of the corresponding value at the corresponding cell in the real sudoku board. This ways we can represent all the combination of the value, row, and column.\n",
                "\n",
                "So, we have \n",
                "\n",
                "$$\n",
                "x_{k, i, j} = \n",
                "\\begin{cases}\n",
                "    1 & \\quad \\text{if number $k$ is in row $i$, column $j$}, \\\\\n",
                "    0 & \\quad \\text{otherwise}\n",
                "\\end{cases}\n",
                "$$\n",
                "\n",
                "Next, let define all the constraints.\n",
                "\n",
                "1. Each row must contain the numbers without repetitions\n",
                "\n",
                "$$\n",
                "\\sum_{j = 1}^{9} x_{k, i, j} = 1, \\quad \\quad \\forall i, k \\in [1, 9]\n",
                "$$\n",
                "\n",
                "2. Each column must contain the numbers without repetitions\n",
                "\n",
                "$$\n",
                "\\sum_{i = 1}^{9} x_{k, i, j} = 1, \\quad \\quad \\forall j, k \\in [1, 9]\n",
                "$$\n",
                "\n",
                "3. Each block must contain the numbers without repetitiions\n",
                "\n",
                "$$\n",
                "\\sum_{i = 1}^{9}\\sum_{j = 1}^{9} x_{k, i + u, j + v} = 1, \\quad \\quad \\forall k \\in [1, 9] \\text{ and } u, v \\in \\{3, 6, 9\\}\n",
                "$$\n",
                "\n",
                "This is, however, still not enough because we also want to ensure that only one number can be in cell. So, we have \n",
                "\n",
                "4. Each cell must contain only one number\n",
                "\n",
                "$$\n",
                "\\sum_{k = 1}^{9} x_{k, i, j} = 1, \\quad \\quad \\forall i, j \\in [1, 9]\n",
                "$$\n",
                "\n",
                "Also, since each of the cells in our 9x9x9 grid is either 0 or 1, we have \n",
                "\n",
                "5. Each cell in the 9 x 9 x 9 grid is either 0 or 1\n",
                "\n",
                "$$\n",
                "0 \\leqslant x_{k, i, j} \\leqslant 1, \\quad \\quad \\forall i, j, k \\in [1, 9]\n",
                "$$ \n",
                "\n",
                "Finally, since we will use this to solve sudoku puzzles, we need to ensure that the position of the initial clues (i.e., the starting numbers that are given) are fixed. So, we have \n",
                "\n",
                "6. Each initial clue must be fixed\n",
                "\n",
                "$$\n",
                "x_{C_{i, j}, i, j} = 1, \\quad \\quad \\forall C_{i, j}\n",
                "$$\n",
                "\n",
                "where $C_{i, j}$ is a starting number that is not 0 at row $i$ and column $j$\n",
                "\n",
                "Now, let implement this using Python cvxpy"
            ]
        },
        {
            "cell_type": "code",
            "execution_count": 3,
            "metadata": {},
            "outputs": [],
            "source": [
                "import cvxpy as cp"
            ]
        },
        {
            "cell_type": "code",
            "execution_count": 4,
            "metadata": {},
            "outputs": [],
            "source": [
                "def solve_linear_optimization(self):\n",
                "    x = { i : cp.Variable(shape = (self.n, self.n), integer = True) for i in range(self.n) }\n",
                "    sqrt_n = (int) (np.sqrt(self.n))\n",
                "    def get_constraints():\n",
                "        # ensure a number can appear only once in a row/column\n",
                "        row_constraints, col_constraints = map(list, zip(*[\n",
                "            (cp.sum(x[k], axis = 1) == 1, cp.sum(x[k], axis = 0) == 1) \n",
                "            for k in range(self.n)\n",
                "        ]))\n",
                "        # ensure a number can appear only once in a sqrt(n)xsqrt(n) block\n",
                "        block_constraints = []\n",
                "        for k in range(self.n):\n",
                "            for u in range(0, self.n - sqrt_n + 1, sqrt_n):\n",
                "                for v in range(0, self.n - sqrt_n + 1, sqrt_n):\n",
                "                    block_constraints.append(sum([\n",
                "                        x[k][i + u, j + v] \n",
                "                        for i in range(sqrt_n) for j in range(sqrt_n)\n",
                "                    ]) == 1)\n",
                "        # ensure a number in the range and that every position is filled with only one number\n",
                "        cell_constraints = list(sum([\n",
                "            (0 <= x[k], x[k] <= 1) \n",
                "            for k in range(self.n)\n",
                "        ], ())) + [\n",
                "            sum([x[k][i, j] for k in range(self.n)]) == 1 \n",
                "            for i in range(self.n) for j in range(self.n)\n",
                "        ]\n",
                "        # ensure the positions of known cells from the puzzle are fixed\n",
                "        known_cell_constraints = [\n",
                "            x[self.puzzle[i, j] - 1][i, j] == 1 \n",
                "            for i in range(self.n) for j in range(self.n) \n",
                "            if (self.puzzle[i,j] != 0)\n",
                "        ]\n",
                "        return row_constraints + col_constraints + block_constraints + known_cell_constraints + cell_constraints\n",
                "    def get_answer(variables):\n",
                "        answer = np.copy(self.puzzle)\n",
                "        for k, variable in enumerate(variables, start = 1):\n",
                "            # find indexes where the cells are 1\n",
                "            indexes = np.array(np.where(variable.value == 1))\n",
                "            # for each 1, fill the corresponding cell in the answer with k\n",
                "            for idx in range(len(indexes[0])):\n",
                "                row, col = indexes[:, idx]\n",
                "                if (answer[row, col] == 0):\n",
                "                    answer[row, col] = k\n",
                "        return answer\n",
                "    # define problem\n",
                "    prob = cp.Problem(\n",
                "        # use zero as the objective function\n",
                "        objective = cp.Minimize(0),\n",
                "        # get and set all the constraints\n",
                "        constraints = get_constraints()\n",
                "    )\n",
                "    # solve\n",
                "    prob.solve(solver = cp.GLPK_MI)\n",
                "    # return the answer\n",
                "    return get_answer(prob.variables())\n",
                "\n",
                "Sudoku.solve_linear_optimization = solve_linear_optimization"
            ]
        },
        {
            "cell_type": "code",
            "execution_count": 5,
            "metadata": {},
            "outputs": [
                {
                    "data": {
                        "text/plain": [
                            "array([[0, 1, 0, 0, 0, 0, 7, 0, 0],\n",
                            "       [6, 0, 5, 1, 7, 0, 0, 0, 0],\n",
                            "       [3, 0, 8, 0, 4, 0, 1, 0, 6],\n",
                            "       [0, 0, 3, 0, 6, 0, 0, 9, 7],\n",
                            "       [0, 0, 7, 0, 9, 0, 3, 0, 2],\n",
                            "       [0, 6, 9, 0, 0, 0, 0, 1, 5],\n",
                            "       [5, 3, 0, 0, 0, 4, 0, 7, 8],\n",
                            "       [7, 8, 6, 9, 0, 0, 0, 4, 1],\n",
                            "       [0, 0, 1, 0, 8, 0, 0, 0, 0]])"
                        ]
                    },
                    "execution_count": 5,
                    "metadata": {},
                    "output_type": "execute_result"
                }
            ],
            "source": [
                "sudoku = Sudoku()\n",
                "\n",
                "sudoku.puzzle"
            ]
        },
        {
            "cell_type": "code",
            "execution_count": 6,
            "metadata": {},
            "outputs": [
                {
                    "data": {
                        "text/plain": [
                            "array([[2, 1, 4, 3, 5, 6, 7, 8, 9],\n",
                            "       [6, 9, 5, 1, 7, 8, 2, 3, 4],\n",
                            "       [3, 7, 8, 2, 4, 9, 1, 5, 6],\n",
                            "       [1, 2, 3, 8, 6, 5, 4, 9, 7],\n",
                            "       [8, 5, 7, 4, 9, 1, 3, 6, 2],\n",
                            "       [4, 6, 9, 7, 3, 2, 8, 1, 5],\n",
                            "       [5, 3, 2, 6, 1, 4, 9, 7, 8],\n",
                            "       [7, 8, 6, 9, 2, 3, 5, 4, 1],\n",
                            "       [9, 4, 1, 5, 8, 7, 6, 2, 3]])"
                        ]
                    },
                    "execution_count": 6,
                    "metadata": {},
                    "output_type": "execute_result"
                }
            ],
            "source": [
                "sol = sudoku.solve_linear_optimization()\n",
                "sol"
            ]
        },
        {
            "cell_type": "code",
            "execution_count": 7,
            "metadata": {},
            "outputs": [
                {
                    "data": {
                        "text/plain": [
                            "True"
                        ]
                    },
                    "execution_count": 7,
                    "metadata": {},
                    "output_type": "execute_result"
                }
            ],
            "source": [
                "sudoku.check(sol)"
            ]
        }
    ],
    "metadata": {
        "interpreter": {
            "hash": "acaf37c1c5c5de31f14233426a27fcbf081f2bbf521b499635136e441b7a16cb"
        },
        "kernelspec": {
            "display_name": "Python 3.9.12 64-bit",
            "name": "python3"
        },
        "language_info": {
            "codemirror_mode": {
                "name": "ipython",
                "version": 3
            },
            "file_extension": ".py",
            "mimetype": "text/x-python",
            "name": "python",
            "nbconvert_exporter": "python",
            "pygments_lexer": "ipython3",
            "version": "3.9.12"
        },
        "orig_nbformat": 4
    },
    "nbformat": 4,
    "nbformat_minor": 2
}
